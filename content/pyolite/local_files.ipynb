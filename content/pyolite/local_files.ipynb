{
 "cells": [
  {
   "cell_type": "code",
   "execution_count": null,
   "id": "996f411c-c654-4fbf-a527-fa25072d5e38",
   "metadata": {},
   "outputs": [],
   "source": [
    "from js import fetch\n",
    "\n",
    "async def fetch_and_save(url, dest):\n",
    "    res = await fetch(url, method='GET')\n",
    "    text = await res.text()\n",
    "    with open(dest, 'w') as outfile:\n",
    "        outfile.write(text)\n",
    "    \n",
    "await fetch_and_save('http://localhost:8090/m_cold.fasta', '/home/m_cold.fasta')\n",
    "    "
   ]
  },
  {
   "cell_type": "code",
   "execution_count": null,
   "id": "d7e46c36-9cf0-4838-92f5-0832d8dfda71",
   "metadata": {},
   "outputs": [],
   "source": [
    "with open('/home/m_cold.fasta','r') as f:\n",
    "    print(f.read())"
   ]
  }
 ],
 "metadata": {
  "kernelspec": {
   "display_name": "Python 3 (ipykernel)",
   "language": "python",
   "name": "python3"
  },
  "language_info": {
   "codemirror_mode": {
    "name": "ipython",
    "version": 3
   },
   "file_extension": ".py",
   "mimetype": "text/x-python",
   "name": "python",
   "nbconvert_exporter": "python",
   "pygments_lexer": "ipython3",
   "version": "3.10.4"
  }
 },
 "nbformat": 4,
 "nbformat_minor": 5
}
