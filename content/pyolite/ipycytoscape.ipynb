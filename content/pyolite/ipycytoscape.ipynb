{
  "metadata": {
    "language_info": {
      "codemirror_mode": {
        "name": "python",
        "version": 3
      },
      "file_extension": ".py",
      "mimetype": "text/x-python",
      "name": "python",
      "nbconvert_exporter": "python",
      "pygments_lexer": "ipython3",
      "version": "3.8"
    },
    "kernelspec": {
      "name": "python",
      "display_name": "Pyolite",
      "language": "python"
    }
  },
  "nbformat_minor": 4,
  "nbformat": 4,
  "cells": [
    {
      "cell_type": "code",
      "source": "import sys\nif 'pyodide' in sys.modules:\n    import piplite\n    await piplite.install('ipycytoscape')",
      "metadata": {
        "trusted": true
      },
      "execution_count": null,
      "outputs": []
    },
    {
      "cell_type": "code",
      "source": "import ipycytoscape",
      "metadata": {
        "trusted": true
      },
      "execution_count": null,
      "outputs": []
    },
    {
      "cell_type": "code",
      "source": "from js import fetch\nimport json\n\nasync def get_json(url):\n    res = await fetch(url, method='GET')\n    text = await res.text()\n    return json.loads(text)\n    \njson_file = await get_json('http://localhost:8090/geneData.json')\ns = await get('http://localhost:8090/geneStyle.json')\n",
      "metadata": {
        "trusted": true
      },
      "execution_count": 23,
      "outputs": [
        {
          "name": "stdout",
          "text": "<class 'str'>\n",
          "output_type": "stream"
        }
      ]
    },
    {
      "cell_type": "code",
      "source": "\ncytoscapeobj = ipycytoscape.CytoscapeWidget()\ncytoscapeobj.graph.add_graph_from_json(json_file)\n#cytoscapeobj.set_style(s)",
      "metadata": {
        "trusted": true
      },
      "execution_count": 21,
      "outputs": [
        {
          "ename": "<class 'TypeError'>",
          "evalue": "string indices must be integers",
          "traceback": [
            "\u001b[0;31m---------------------------------------------------------------------------\u001b[0m",
            "\u001b[0;31mTypeError\u001b[0m                                 Traceback (most recent call last)",
            "Input \u001b[0;32mIn [21]\u001b[0m, in \u001b[0;36m<cell line: 2>\u001b[0;34m()\u001b[0m\n\u001b[1;32m      1\u001b[0m cytoscapeobj \u001b[38;5;241m=\u001b[39m ipycytoscape\u001b[38;5;241m.\u001b[39mCytoscapeWidget()\n\u001b[0;32m----> 2\u001b[0m \u001b[43mcytoscapeobj\u001b[49m\u001b[38;5;241;43m.\u001b[39;49m\u001b[43mgraph\u001b[49m\u001b[38;5;241;43m.\u001b[39;49m\u001b[43madd_graph_from_json\u001b[49m\u001b[43m(\u001b[49m\u001b[43mjson_file\u001b[49m\u001b[43m)\u001b[49m\n",
            "File \u001b[0;32m/lib/python3.10/site-packages/ipycytoscape/cytoscape.py:546\u001b[0m, in \u001b[0;36mGraph.add_graph_from_json\u001b[0;34m(self, json_file, directed, multiple_edges)\u001b[0m\n\u001b[1;32m    543\u001b[0m         json_file \u001b[38;5;241m=\u001b[39m json\u001b[38;5;241m.\u001b[39mload(f)\n\u001b[1;32m    545\u001b[0m node_list \u001b[38;5;241m=\u001b[39m \u001b[38;5;28mlist\u001b[39m()\n\u001b[0;32m--> 546\u001b[0m \u001b[38;5;28;01mfor\u001b[39;00m node \u001b[38;5;129;01min\u001b[39;00m \u001b[43mjson_file\u001b[49m\u001b[43m[\u001b[49m\u001b[38;5;124;43m\"\u001b[39;49m\u001b[38;5;124;43mnodes\u001b[39;49m\u001b[38;5;124;43m\"\u001b[39;49m\u001b[43m]\u001b[49m:\n\u001b[1;32m    547\u001b[0m     node_instance \u001b[38;5;241m=\u001b[39m Node()\n\u001b[1;32m    548\u001b[0m     _set_attributes(node_instance, node)\n",
            "\u001b[0;31mTypeError\u001b[0m: string indices must be integers"
          ],
          "output_type": "error"
        }
      ]
    },
    {
      "cell_type": "code",
      "source": "# edits graph directly \n\ncytoscapeobj.set_layout(nodeSpacing=100)\ncytoscapeobj.get_layout()",
      "metadata": {},
      "execution_count": null,
      "outputs": []
    },
    {
      "cell_type": "code",
      "source": "# connects a slider to the nodeSpacing of the graph\n\nimport ipywidgets as widgets\n\nnode_range = widgets.IntSlider(value=100)\noutput = widgets.Output()\ndisplay(node_range, output)\n\ndef on_value_change(change):\n    with output:\n        cytoscapeobj.set_layout(nodeSpacing = node_range.value)\n        cytoscapeobj.get_layout()\n\nnode_range.observe(on_value_change)",
      "metadata": {},
      "execution_count": null,
      "outputs": []
    }
  ]
}