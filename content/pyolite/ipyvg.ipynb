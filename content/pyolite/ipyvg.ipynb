{
 "cells": [
  {
   "cell_type": "code",
   "execution_count": 5,
   "metadata": {},
   "outputs": [],
   "source": [
    "import sys\n",
    "if 'pyodide' in sys.modules:\n",
    "    import piplite\n",
    "    await piplite.install('ipyigv')"
   ]
  },
  {
   "cell_type": "code",
   "execution_count": 6,
   "metadata": {},
   "outputs": [],
   "source": [
    "import ipyigv as igv\n",
    "from ipywidgets.widgets.trait_types import InstanceDict\n",
    "from ipyigv.options import ReferenceGenome, Track\n",
    "from ipywidgets import Output "
   ]
  },
  {
   "cell_type": "markdown",
   "metadata": {},
   "source": [
    "## Initializing the browser "
   ]
  },
  {
   "cell_type": "code",
   "execution_count": 7,
   "metadata": {},
   "outputs": [],
   "source": [
    "genomeDict = igv.PUBLIC_GENOMES.hg38"
   ]
  },
  {
   "cell_type": "code",
   "execution_count": 8,
   "metadata": {},
   "outputs": [],
   "source": [
    "genome = ReferenceGenome(**genomeDict)"
   ]
  },
  {
   "cell_type": "code",
   "execution_count": 9,
   "metadata": {},
   "outputs": [],
   "source": [
    "browser = igv.IgvBrowser(genome=genome)"
   ]
  },
  {
   "cell_type": "code",
   "execution_count": 10,
   "metadata": {},
   "outputs": [
    {
     "data": {
      "application/vnd.jupyter.widget-view+json": {
       "model_id": "a36f6f71f54b4a3a8ebc3c122aa2b557",
       "version_major": 2,
       "version_minor": 0
      },
      "text/plain": [
       "IgvBrowser(genome=ReferenceGenome(cytobandURL='https://s3.dualstack.us-east-1.amazonaws.com/igv.org.genomes/hg…"
      ]
     },
     "metadata": {},
     "output_type": "display_data"
    }
   ],
   "source": [
    "browser"
   ]
  },
  {
   "cell_type": "markdown",
   "metadata": {},
   "source": [
    "## Adding or removing a track"
   ]
  },
  {
   "cell_type": "code",
   "execution_count": 11,
   "metadata": {},
   "outputs": [],
   "source": [
    "trackDict = {\n",
    "  'name': 'Refseq Genes',\n",
    "  'format': 'refgene',\n",
    "  'url': 'https://s3.dualstack.us-east-1.amazonaws.com/igv.org.genomes/hg38/refGene.txt.gz',\n",
    "  'indexed': False,\n",
    "  'visibilityWindow': -1,\n",
    "  'removable': False,\n",
    "  'order': 1000000\n",
    "}"
   ]
  },
  {
   "cell_type": "code",
   "execution_count": 12,
   "metadata": {},
   "outputs": [],
   "source": [
    "oneMoreTrack = Track(**trackDict)"
   ]
  },
  {
   "cell_type": "code",
   "execution_count": 13,
   "metadata": {},
   "outputs": [],
   "source": [
    "browser.add_track(oneMoreTrack)"
   ]
  },
  {
   "cell_type": "code",
   "execution_count": 14,
   "metadata": {},
   "outputs": [],
   "source": [
    "browser.remove_track(oneMoreTrack)"
   ]
  },
  {
   "cell_type": "markdown",
   "metadata": {},
   "source": [
    "## Adding a Region of Interest"
   ]
  },
  {
   "cell_type": "code",
   "execution_count": 15,
   "metadata": {},
   "outputs": [],
   "source": [
    "roiDict = {\n",
    "  'name': 'ROI set 1',\n",
    "  'url': 'https://s3.amazonaws.com/igv.org.test/data/roi/roi_bed_1.bed',\n",
    "  'indexed': False,\n",
    "  'color': \"rgba(68, 134, 247, 0.25)\"\n",
    "}"
   ]
  },
  {
   "cell_type": "code",
   "execution_count": 16,
   "metadata": {},
   "outputs": [],
   "source": [
    "roi = igv.options.AnnotationTrack(**roiDict)"
   ]
  },
  {
   "cell_type": "code",
   "execution_count": 17,
   "metadata": {},
   "outputs": [],
   "source": [
    "browser.add_roi(roi)"
   ]
  },
  {
   "cell_type": "markdown",
   "metadata": {},
   "source": [
    "## Searching"
   ]
  },
  {
   "cell_type": "code",
   "execution_count": 19,
   "metadata": {},
   "outputs": [
    {
     "name": "stdout",
     "output_type": "stream",
     "text": [
      "Search completed. Check the widget instance for results.\n"
     ]
    }
   ],
   "source": [
    "browser.search('chr3:1-190,100,300')"
   ]
  },
  {
   "cell_type": "markdown",
   "metadata": {},
   "source": [
    "## Getting the browser configuration\n",
    "We need to output the configuration in `browser.out`, which is an `Output` widget"
   ]
  },
  {
   "cell_type": "code",
   "execution_count": 20,
   "metadata": {},
   "outputs": [
    {
     "name": "stdout",
     "output_type": "stream",
     "text": [
      "Dumping browser configuration to browser.out\n"
     ]
    }
   ],
   "source": [
    "browser.dump_json()"
   ]
  },
  {
   "cell_type": "code",
   "execution_count": 21,
   "metadata": {
    "scrolled": true
   },
   "outputs": [
    {
     "data": {
      "application/vnd.jupyter.widget-view+json": {
       "model_id": "aff4e87360c14ca191fdf34718a01c89",
       "version_major": 2,
       "version_minor": 0
      },
      "text/plain": [
       "Output(outputs=({'name': 'stdout', 'text': \"{'version': '2.7.0', 'reference': {'id': 'hg38', 'name': 'Human (G…"
      ]
     },
     "metadata": {},
     "output_type": "display_data"
    }
   ],
   "source": [
    "browser.out"
   ]
  },
  {
   "cell_type": "code",
   "execution_count": null,
   "metadata": {},
   "outputs": [],
   "source": []
  }
 ],
 "metadata": {
  "kernelspec": {
   "display_name": "Python 3 (ipykernel)",
   "language": "python",
   "name": "python3"
  },
  "language_info": {
   "codemirror_mode": {
    "name": "ipython",
    "version": 3
   },
   "file_extension": ".py",
   "mimetype": "text/x-python",
   "name": "python",
   "nbconvert_exporter": "python",
   "pygments_lexer": "ipython3",
   "version": "3.10.4"
  }
 },
 "nbformat": 4,
 "nbformat_minor": 4
}
