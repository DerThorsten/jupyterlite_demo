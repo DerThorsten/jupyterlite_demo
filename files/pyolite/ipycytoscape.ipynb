{
 "cells": [
  {
   "cell_type": "code",
   "execution_count": null,
   "metadata": {},
   "outputs": [],
   "source": [
    "import sys\n",
    "if 'pyodide' in sys.modules:\n",
    "    import piplite\n",
    "    await piplite.install('ipycytoscape')"
   ]
  },
  {
   "cell_type": "code",
   "execution_count": null,
   "metadata": {},
   "outputs": [],
   "source": [
    "import ipycytoscape"
   ]
  },
  {
   "cell_type": "code",
   "execution_count": null,
   "metadata": {},
   "outputs": [],
   "source": [
    "from js import fetch\n",
    "import json\n",
    "\n",
    "async def get_json(url):\n",
    "    res = await fetch(url, method='GET')\n",
    "    text = await res.text()\n",
    "    return json.loads(text)\n",
    "    \n",
    "json_file = await get_json('http://localhost:8090/geneData.json')\n",
    "s = await get_json('http://localhost:8090/geneStyle.json')\n"
   ]
  },
  {
   "cell_type": "code",
   "execution_count": null,
   "metadata": {},
   "outputs": [],
   "source": [
    "\n",
    "cytoscapeobj = ipycytoscape.CytoscapeWidget()\n",
    "cytoscapeobj.graph.add_graph_from_json(json_file)\n",
    "cytoscapeobj.set_style(s)"
   ]
  },
  {
   "cell_type": "code",
   "execution_count": null,
   "metadata": {},
   "outputs": [],
   "source": [
    "# edits graph directly \n",
    "cytoscapeobj.set_layout(nodeSpacing=100)\n",
    "cytoscapeobj.get_layout()"
   ]
  },
  {
   "cell_type": "code",
   "execution_count": null,
   "metadata": {},
   "outputs": [],
   "source": [
    "# connects a slider to the nodeSpacing of the graph\n",
    "\n",
    "import ipywidgets as widgets\n",
    "\n",
    "node_range = widgets.IntSlider(value=100)\n",
    "output = widgets.Output()\n",
    "display(node_range, output)\n",
    "\n",
    "def on_value_change(change):\n",
    "    with output:\n",
    "        cytoscapeobj.set_layout(nodeSpacing = node_range.value)\n",
    "        cytoscapeobj.get_layout()\n",
    "\n",
    "node_range.observe(on_value_change)"
   ]
  }
 ],
 "metadata": {
  "kernelspec": {
   "display_name": "Python 3 (ipykernel)",
   "language": "python",
   "name": "python3"
  },
  "language_info": {
   "codemirror_mode": {
    "name": "ipython",
    "version": 3
   },
   "file_extension": ".py",
   "mimetype": "text/x-python",
   "name": "python",
   "nbconvert_exporter": "python",
   "pygments_lexer": "ipython3",
   "version": "3.10.4"
  }
 },
 "nbformat": 4,
 "nbformat_minor": 4
}
